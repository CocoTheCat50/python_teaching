{
 "metadata": {
  "name": "",
  "signature": "sha256:ceb7bb0dba41e7788d816cc83fc0136838f80272a8014ac8853b50d31e0af92f"
 },
 "nbformat": 3,
 "nbformat_minor": 0,
 "worksheets": [
  {
   "cells": [
    {
     "cell_type": "markdown",
     "metadata": {},
     "source": [
      "# Overview\n",
      "\n",
      "Basically just using the official [python tutorial](https://docs.python.org/2/tutorial/).\n",
      "\n",
      "### Python Basics\n",
      "1. Python (iPython) shell\n",
      "* Python files\n",
      "* iPython notebook\n",
      "* Everything is an object\n",
      "* Numbers and strings\n",
      "* Collections of items\n",
      " - Lists\n",
      " - Tuples\n",
      " - Dictionaries\n",
      "* Flow Control\n",
      " - Conditionals\n",
      " - Loops\n",
      " - Exceptions\n",
      "\n",
      "### Modules\n",
      "1. The Namespace\n",
      "* Importing\n",
      "* Functions\n",
      "* Organizing your code in modules\n",
      "\n",
      "### NumPy\n",
      "\n",
      "### SciPy\n"
     ]
    },
    {
     "cell_type": "code",
     "collapsed": false,
     "input": [],
     "language": "python",
     "metadata": {},
     "outputs": []
    }
   ],
   "metadata": {}
  }
 ]
}